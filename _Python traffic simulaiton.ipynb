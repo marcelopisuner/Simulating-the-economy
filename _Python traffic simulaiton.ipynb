{
 "cells": [
  {
   "cell_type": "code",
   "execution_count": null,
   "metadata": {},
   "outputs": [
    {
     "data": {
      "application/vnd.jupyter.widget-view+json": {
       "model_id": "c51461ddc12040cf9e86d53efd510a20",
       "version_major": 2,
       "version_minor": 0
      },
      "text/plain": [
       "FloatSlider(value=1.0, description='Speed:', max=3.0, min=0.1)"
      ]
     },
     "metadata": {},
     "output_type": "display_data"
    },
    {
     "data": {
      "application/vnd.jupyter.widget-view+json": {
       "model_id": "17d25950516948b8b3480caef4655911",
       "version_major": 2,
       "version_minor": 0
      },
      "text/plain": [
       "IntSlider(value=14, description='Agents:', max=30, min=1)"
      ]
     },
     "metadata": {},
     "output_type": "display_data"
    },
    {
     "data": {
      "application/vnd.jupyter.widget-view+json": {
       "model_id": "0e6bda53a9c647e9950d30283671060a",
       "version_major": 2,
       "version_minor": 0
      },
      "text/plain": [
       "FloatSlider(value=3.0, description='Entry Interval:', max=10.0, min=0.1)"
      ]
     },
     "metadata": {},
     "output_type": "display_data"
    },
    {
     "data": {
      "application/vnd.jupyter.widget-view+json": {
       "model_id": "e85b75df8b8e472194d858ae7d7619fb",
       "version_major": 2,
       "version_minor": 0
      },
      "text/plain": [
       "Button(description='Run Simulation', style=ButtonStyle())"
      ]
     },
     "metadata": {},
     "output_type": "display_data"
    },
    {
     "name": "stderr",
     "output_type": "stream",
     "text": [
      "2024-11-29 14:28:14.597 Python[37114:13948436] +[IMKClient subclass]: chose IMKClient_Modern\n",
      "2024-11-29 14:28:14.597 Python[37114:13948436] +[IMKInputSession subclass]: chose IMKInputSession_Modern\n",
      "2024-11-29 14:29:13.883 Python[37114:13948436] The class 'NSSavePanel' overrides the method identifier.  This method is implemented by class 'NSWindow'\n"
     ]
    }
   ],
   "source": [
    "import ipywidgets as widgets\n",
    "import matplotlib.pyplot as plt\n",
    "import numpy as np\n",
    "from IPython.display import display\n",
    "from matplotlib.animation import FuncAnimation\n",
    "import matplotlib\n",
    "import time\n",
    "\n",
    "# Use interactive mode for dynamic plots\n",
    "matplotlib.use('TkAgg')\n",
    "\n",
    "class HighwaySimulation:\n",
    "    def __init__(self, num_agents=14, speed=1, entry_interval=3):\n",
    "        self.num_agents = num_agents\n",
    "        self.speed = speed\n",
    "        self.entry_interval = entry_interval\n",
    "        self.agent_types = ['A', 'A', 'B', 'B', 'B', 'B', 'C'] * (num_agents // 7)  # Adjust the number of each agent type\n",
    "        self.positions = np.array([[-np.inf, 0] for _ in range(num_agents)])\n",
    "        self.entry_times = np.random.uniform(0, self.entry_interval * num_agents, num_agents)  # Agents enter at different times\n",
    "        self.speeds = np.array([self.get_speed(agent_type, speed) for agent_type in self.agent_types])\n",
    "        self.fig, self.ax = plt.subplots(figsize=(12, 2))  # Larger rectangle\n",
    "        self.scatter = self.ax.scatter([], [], s=100)\n",
    "        self.ax.set_xlim(0, 30)  # Longer x-axis\n",
    "        self.ax.set_ylim(-1, 1)\n",
    "        self.start_time = time.time()\n",
    "        self.next_entry_time = self.entry_interval\n",
    "        self.current_agent_index = 0\n",
    "        self.stop_flags = [False] * self.num_agents  # Flags to indicate if an agent is stopped\n",
    "        self.stop_times = np.zeros(self.num_agents)  # Times to keep track of when to resume\n",
    "\n",
    "    def get_speed(self, agent_type, base_speed):\n",
    "        if agent_type == 'A':\n",
    "            return base_speed\n",
    "        elif agent_type == 'B':\n",
    "            return 1.3 * base_speed\n",
    "        elif agent_type == 'C':\n",
    "            return 1.5 * base_speed\n",
    "\n",
    "    def update(self, frame):\n",
    "        current_time = time.time() - self.start_time\n",
    "\n",
    "        # Check if it's time to enter a new agent\n",
    "        if current_time >= self.next_entry_time:\n",
    "            self.positions[self.current_agent_index] = [0, 0]  # Enter at (x=0, y=0)\n",
    "            self.current_agent_index = (self.current_agent_index + 1) % self.num_agents\n",
    "            self.next_entry_time += self.entry_interval\n",
    "\n",
    "        # Update positions of agents\n",
    "        for i in range(self.num_agents):\n",
    "            if self.positions[i][0] != -np.inf:\n",
    "                if not self.stop_flags[i]:\n",
    "                    self.positions[i][0] += self.speeds[i] * 0.1\n",
    "                # Reset agents that move beyond the right boundary back to the left\n",
    "                if self.positions[i][0] > 30:\n",
    "                    self.positions[i] = [-np.inf, 0]\n",
    "                    self.speeds[i] = self.get_speed(self.agent_types[i], self.speed)\n",
    "\n",
    "        # Check for collisions\n",
    "        for i in range(self.num_agents):\n",
    "            for j in range(i + 1, self.num_agents):\n",
    "                if self.positions[i][0] != -np.inf and self.positions[j][0] != -np.inf:\n",
    "                    if abs(self.positions[i][0] - self.positions[j][0]) < 0.5:\n",
    "                        if self.positions[i][0] < self.positions[j][0]:\n",
    "                            self.stop_flags[i] = True\n",
    "                            self.stop_times[i] = current_time + 0.5\n",
    "                        else:\n",
    "                            self.stop_flags[j] = True\n",
    "                            self.stop_times[j] = current_time + 0.5\n",
    "\n",
    "        # Resume agents that have stopped\n",
    "        for i in range(self.num_agents):\n",
    "            if self.stop_flags[i] and current_time > self.stop_times[i]:\n",
    "                self.stop_flags[i] = False\n",
    "\n",
    "        # Update scatter plot positions\n",
    "        self.scatter.set_offsets(self.positions)\n",
    "        return self.scatter,\n",
    "\n",
    "    def run(self):\n",
    "        self.anim = FuncAnimation(self.fig, self.update, frames=200, interval=50, blit=True)\n",
    "        plt.show()\n",
    "\n",
    "# Widget controls\n",
    "speed_slider = widgets.FloatSlider(value=1, min=0.1, max=3.0, step=0.1, description='Speed:')\n",
    "agent_slider = widgets.IntSlider(value=14, min=1, max=30, step=1, description='Agents:')\n",
    "entry_interval_slider = widgets.FloatSlider(value=3, min=0.1, max=10.0, step=0.1, description='Entry Interval:')\n",
    "run_button = widgets.Button(description='Run Simulation')\n",
    "\n",
    "# Interactive output\n",
    "def run_simulation(_):\n",
    "    num_agents = agent_slider.value\n",
    "    speed = speed_slider.value\n",
    "    entry_interval = entry_interval_slider.value\n",
    "    sim = HighwaySimulation(num_agents=num_agents, speed=speed, entry_interval=entry_interval)\n",
    "    sim.run()\n",
    "\n",
    "run_button.on_click(run_simulation)\n",
    "\n",
    "# Display controls\n",
    "display(speed_slider, agent_slider, entry_interval_slider, run_button)"
   ]
  },
  {
   "cell_type": "code",
   "execution_count": null,
   "metadata": {},
   "outputs": [
    {
     "data": {
      "application/vnd.jupyter.widget-view+json": {
       "model_id": "585c51d7a1e9443fab1d5395caaa4053",
       "version_major": 2,
       "version_minor": 0
      },
      "text/plain": [
       "FloatSlider(value=1.0, description='Speed:', max=3.0, min=0.1)"
      ]
     },
     "metadata": {},
     "output_type": "display_data"
    },
    {
     "data": {
      "application/vnd.jupyter.widget-view+json": {
       "model_id": "610d725ba1ce4ae3bc59514b8ce2247d",
       "version_major": 2,
       "version_minor": 0
      },
      "text/plain": [
       "IntSlider(value=14, description='Agents:', max=30, min=1)"
      ]
     },
     "metadata": {},
     "output_type": "display_data"
    },
    {
     "data": {
      "application/vnd.jupyter.widget-view+json": {
       "model_id": "5de4bea1f657420d8b0568b29f75b065",
       "version_major": 2,
       "version_minor": 0
      },
      "text/plain": [
       "FloatSlider(value=3.0, description='Entry Interval:', max=10.0, min=0.1)"
      ]
     },
     "metadata": {},
     "output_type": "display_data"
    },
    {
     "data": {
      "application/vnd.jupyter.widget-view+json": {
       "model_id": "284d93081ab8485cb136d00f0f38e773",
       "version_major": 2,
       "version_minor": 0
      },
      "text/plain": [
       "Button(description='Run Simulation', style=ButtonStyle())"
      ]
     },
     "metadata": {},
     "output_type": "display_data"
    }
   ],
   "source": []
  },
  {
   "cell_type": "code",
   "execution_count": 9,
   "metadata": {},
   "outputs": [
    {
     "name": "stdout",
     "output_type": "stream",
     "text": [
      "Requirement already satisfied: ipywidgets in /Library/Frameworks/Python.framework/Versions/3.12/lib/python3.12/site-packages (8.1.5)\n",
      "Requirement already satisfied: nbconvert in /Library/Frameworks/Python.framework/Versions/3.12/lib/python3.12/site-packages (7.16.4)\n",
      "Collecting voila\n",
      "  Obtaining dependency information for voila from https://files.pythonhosted.org/packages/7a/fc/ebc74e04619f84200df9ab029be6aeeab6ae3b82ec3e97c177d83839383d/voila-0.5.8-py3-none-any.whl.metadata\n",
      "  Downloading voila-0.5.8-py3-none-any.whl.metadata (9.5 kB)\n",
      "Requirement already satisfied: comm>=0.1.3 in /Users/marceloppisuner/Library/Python/3.12/lib/python/site-packages (from ipywidgets) (0.2.0)\n",
      "Requirement already satisfied: ipython>=6.1.0 in /Users/marceloppisuner/Library/Python/3.12/lib/python/site-packages (from ipywidgets) (8.18.1)\n",
      "Requirement already satisfied: traitlets>=4.3.1 in /Users/marceloppisuner/Library/Python/3.12/lib/python/site-packages (from ipywidgets) (5.14.0)\n",
      "Requirement already satisfied: widgetsnbextension~=4.0.12 in /Library/Frameworks/Python.framework/Versions/3.12/lib/python3.12/site-packages (from ipywidgets) (4.0.13)\n",
      "Requirement already satisfied: jupyterlab-widgets~=3.0.12 in /Library/Frameworks/Python.framework/Versions/3.12/lib/python3.12/site-packages (from ipywidgets) (3.0.13)\n",
      "Requirement already satisfied: beautifulsoup4 in /Library/Frameworks/Python.framework/Versions/3.12/lib/python3.12/site-packages (from nbconvert) (4.12.3)\n",
      "Requirement already satisfied: bleach!=5.0.0 in /Library/Frameworks/Python.framework/Versions/3.12/lib/python3.12/site-packages (from nbconvert) (6.2.0)\n",
      "Requirement already satisfied: defusedxml in /Library/Frameworks/Python.framework/Versions/3.12/lib/python3.12/site-packages (from nbconvert) (0.7.1)\n",
      "Requirement already satisfied: jinja2>=3.0 in /Library/Frameworks/Python.framework/Versions/3.12/lib/python3.12/site-packages (from nbconvert) (3.1.4)\n",
      "Requirement already satisfied: jupyter-core>=4.7 in /Users/marceloppisuner/Library/Python/3.12/lib/python/site-packages (from nbconvert) (5.5.1)\n",
      "Requirement already satisfied: jupyterlab-pygments in /Library/Frameworks/Python.framework/Versions/3.12/lib/python3.12/site-packages (from nbconvert) (0.3.0)\n",
      "Requirement already satisfied: markupsafe>=2.0 in /Library/Frameworks/Python.framework/Versions/3.12/lib/python3.12/site-packages (from nbconvert) (3.0.2)\n",
      "Requirement already satisfied: mistune<4,>=2.0.3 in /Library/Frameworks/Python.framework/Versions/3.12/lib/python3.12/site-packages (from nbconvert) (3.0.2)\n",
      "Requirement already satisfied: nbclient>=0.5.0 in /Library/Frameworks/Python.framework/Versions/3.12/lib/python3.12/site-packages (from nbconvert) (0.10.1)\n",
      "Requirement already satisfied: nbformat>=5.7 in /Library/Frameworks/Python.framework/Versions/3.12/lib/python3.12/site-packages (from nbconvert) (5.10.4)\n",
      "Requirement already satisfied: packaging in /Users/marceloppisuner/Library/Python/3.12/lib/python/site-packages (from nbconvert) (23.2)\n",
      "Requirement already satisfied: pandocfilters>=1.4.1 in /Library/Frameworks/Python.framework/Versions/3.12/lib/python3.12/site-packages (from nbconvert) (1.5.1)\n",
      "Requirement already satisfied: pygments>=2.4.1 in /Users/marceloppisuner/Library/Python/3.12/lib/python/site-packages (from nbconvert) (2.17.2)\n",
      "Requirement already satisfied: tinycss2 in /Library/Frameworks/Python.framework/Versions/3.12/lib/python3.12/site-packages (from nbconvert) (1.4.0)\n",
      "Requirement already satisfied: jupyter-client<9,>=7.4.4 in /Users/marceloppisuner/Library/Python/3.12/lib/python/site-packages (from voila) (8.6.0)\n",
      "Collecting jupyter-server<3,>=1.18 (from voila)\n",
      "  Obtaining dependency information for jupyter-server<3,>=1.18 from https://files.pythonhosted.org/packages/57/e1/085edea6187a127ca8ea053eb01f4e1792d778b4d192c74d32eb6730fed6/jupyter_server-2.14.2-py3-none-any.whl.metadata\n",
      "  Downloading jupyter_server-2.14.2-py3-none-any.whl.metadata (8.4 kB)\n",
      "Collecting jupyterlab-server<3,>=2.3.0 (from voila)\n",
      "  Obtaining dependency information for jupyterlab-server<3,>=2.3.0 from https://files.pythonhosted.org/packages/54/09/2032e7d15c544a0e3cd831c51d77a8ca57f7555b2e1b2922142eddb02a84/jupyterlab_server-2.27.3-py3-none-any.whl.metadata\n",
      "  Downloading jupyterlab_server-2.27.3-py3-none-any.whl.metadata (5.9 kB)\n",
      "Collecting websockets>=9.0 (from voila)\n",
      "  Obtaining dependency information for websockets>=9.0 from https://files.pythonhosted.org/packages/c1/89/2a09db1bbb40ba967a1b8225b07b7df89fea44f06de9365f17f684d0f7e6/websockets-14.1-cp312-cp312-macosx_11_0_arm64.whl.metadata\n",
      "  Downloading websockets-14.1-cp312-cp312-macosx_11_0_arm64.whl.metadata (6.7 kB)\n",
      "Requirement already satisfied: webencodings in /Library/Frameworks/Python.framework/Versions/3.12/lib/python3.12/site-packages (from bleach!=5.0.0->nbconvert) (0.5.1)\n",
      "Requirement already satisfied: decorator in /Users/marceloppisuner/Library/Python/3.12/lib/python/site-packages (from ipython>=6.1.0->ipywidgets) (5.1.1)\n",
      "Requirement already satisfied: jedi>=0.16 in /Users/marceloppisuner/Library/Python/3.12/lib/python/site-packages (from ipython>=6.1.0->ipywidgets) (0.19.1)\n",
      "Requirement already satisfied: matplotlib-inline in /Users/marceloppisuner/Library/Python/3.12/lib/python/site-packages (from ipython>=6.1.0->ipywidgets) (0.1.6)\n",
      "Requirement already satisfied: prompt-toolkit<3.1.0,>=3.0.41 in /Users/marceloppisuner/Library/Python/3.12/lib/python/site-packages (from ipython>=6.1.0->ipywidgets) (3.0.43)\n",
      "Requirement already satisfied: stack-data in /Users/marceloppisuner/Library/Python/3.12/lib/python/site-packages (from ipython>=6.1.0->ipywidgets) (0.6.3)\n",
      "Requirement already satisfied: pexpect>4.3 in /Users/marceloppisuner/Library/Python/3.12/lib/python/site-packages (from ipython>=6.1.0->ipywidgets) (4.9.0)\n",
      "Requirement already satisfied: python-dateutil>=2.8.2 in /Users/marceloppisuner/Library/Python/3.12/lib/python/site-packages (from jupyter-client<9,>=7.4.4->voila) (2.8.2)\n",
      "Requirement already satisfied: pyzmq>=23.0 in /Users/marceloppisuner/Library/Python/3.12/lib/python/site-packages (from jupyter-client<9,>=7.4.4->voila) (25.1.2)\n",
      "Requirement already satisfied: tornado>=6.2 in /Users/marceloppisuner/Library/Python/3.12/lib/python/site-packages (from jupyter-client<9,>=7.4.4->voila) (6.4)\n",
      "Requirement already satisfied: platformdirs>=2.5 in /Users/marceloppisuner/Library/Python/3.12/lib/python/site-packages (from jupyter-core>=4.7->nbconvert) (4.1.0)\n",
      "Collecting anyio>=3.1.0 (from jupyter-server<3,>=1.18->voila)\n",
      "  Obtaining dependency information for anyio>=3.1.0 from https://files.pythonhosted.org/packages/e4/f5/f2b75d2fc6f1a260f340f0e7c6a060f4dd2961cc16884ed851b0d18da06a/anyio-4.6.2.post1-py3-none-any.whl.metadata\n",
      "  Downloading anyio-4.6.2.post1-py3-none-any.whl.metadata (4.7 kB)\n",
      "Collecting argon2-cffi>=21.1 (from jupyter-server<3,>=1.18->voila)\n",
      "  Obtaining dependency information for argon2-cffi>=21.1 from https://files.pythonhosted.org/packages/a4/6a/e8a041599e78b6b3752da48000b14c8d1e8a04ded09c88c714ba047f34f5/argon2_cffi-23.1.0-py3-none-any.whl.metadata\n",
      "  Downloading argon2_cffi-23.1.0-py3-none-any.whl.metadata (5.2 kB)\n",
      "Collecting jupyter-events>=0.9.0 (from jupyter-server<3,>=1.18->voila)\n",
      "  Obtaining dependency information for jupyter-events>=0.9.0 from https://files.pythonhosted.org/packages/a5/94/059180ea70a9a326e1815176b2370da56376da347a796f8c4f0b830208ef/jupyter_events-0.10.0-py3-none-any.whl.metadata\n",
      "  Downloading jupyter_events-0.10.0-py3-none-any.whl.metadata (5.9 kB)\n",
      "Collecting jupyter-server-terminals>=0.4.4 (from jupyter-server<3,>=1.18->voila)\n",
      "  Obtaining dependency information for jupyter-server-terminals>=0.4.4 from https://files.pythonhosted.org/packages/07/2d/2b32cdbe8d2a602f697a649798554e4f072115438e92249624e532e8aca6/jupyter_server_terminals-0.5.3-py3-none-any.whl.metadata\n",
      "  Downloading jupyter_server_terminals-0.5.3-py3-none-any.whl.metadata (5.6 kB)\n",
      "Collecting overrides>=5.0 (from jupyter-server<3,>=1.18->voila)\n",
      "  Obtaining dependency information for overrides>=5.0 from https://files.pythonhosted.org/packages/2c/ab/fc8290c6a4c722e5514d80f62b2dc4c4df1a68a41d1364e625c35990fcf3/overrides-7.7.0-py3-none-any.whl.metadata\n",
      "  Downloading overrides-7.7.0-py3-none-any.whl.metadata (5.8 kB)\n",
      "Collecting prometheus-client>=0.9 (from jupyter-server<3,>=1.18->voila)\n",
      "  Obtaining dependency information for prometheus-client>=0.9 from https://files.pythonhosted.org/packages/84/2d/46ed6436849c2c88228c3111865f44311cff784b4aabcdef4ea2545dbc3d/prometheus_client-0.21.0-py3-none-any.whl.metadata\n",
      "  Downloading prometheus_client-0.21.0-py3-none-any.whl.metadata (1.8 kB)\n",
      "Collecting send2trash>=1.8.2 (from jupyter-server<3,>=1.18->voila)\n",
      "  Obtaining dependency information for send2trash>=1.8.2 from https://files.pythonhosted.org/packages/40/b0/4562db6223154aa4e22f939003cb92514c79f3d4dccca3444253fd17f902/Send2Trash-1.8.3-py3-none-any.whl.metadata\n",
      "  Downloading Send2Trash-1.8.3-py3-none-any.whl.metadata (4.0 kB)\n",
      "Collecting terminado>=0.8.3 (from jupyter-server<3,>=1.18->voila)\n",
      "  Obtaining dependency information for terminado>=0.8.3 from https://files.pythonhosted.org/packages/6a/9e/2064975477fdc887e47ad42157e214526dcad8f317a948dee17e1659a62f/terminado-0.18.1-py3-none-any.whl.metadata\n",
      "  Downloading terminado-0.18.1-py3-none-any.whl.metadata (5.8 kB)\n",
      "Requirement already satisfied: websocket-client>=1.7 in /Library/Frameworks/Python.framework/Versions/3.12/lib/python3.12/site-packages (from jupyter-server<3,>=1.18->voila) (1.8.0)\n",
      "Collecting babel>=2.10 (from jupyterlab-server<3,>=2.3.0->voila)\n",
      "  Obtaining dependency information for babel>=2.10 from https://files.pythonhosted.org/packages/ed/20/bc79bc575ba2e2a7f70e8a1155618bb1301eaa5132a8271373a6903f73f8/babel-2.16.0-py3-none-any.whl.metadata\n",
      "  Downloading babel-2.16.0-py3-none-any.whl.metadata (1.5 kB)\n",
      "Collecting json5>=0.9.0 (from jupyterlab-server<3,>=2.3.0->voila)\n",
      "  Obtaining dependency information for json5>=0.9.0 from https://files.pythonhosted.org/packages/aa/42/797895b952b682c3dafe23b1834507ee7f02f4d6299b65aaa61425763278/json5-0.10.0-py3-none-any.whl.metadata\n",
      "  Downloading json5-0.10.0-py3-none-any.whl.metadata (34 kB)\n",
      "Requirement already satisfied: jsonschema>=4.18.0 in /Library/Frameworks/Python.framework/Versions/3.12/lib/python3.12/site-packages (from jupyterlab-server<3,>=2.3.0->voila) (4.23.0)\n",
      "Requirement already satisfied: requests>=2.31 in /Library/Frameworks/Python.framework/Versions/3.12/lib/python3.12/site-packages (from jupyterlab-server<3,>=2.3.0->voila) (2.32.3)\n",
      "Requirement already satisfied: fastjsonschema>=2.15 in /Library/Frameworks/Python.framework/Versions/3.12/lib/python3.12/site-packages (from nbformat>=5.7->nbconvert) (2.21.0)\n",
      "Requirement already satisfied: soupsieve>1.2 in /Library/Frameworks/Python.framework/Versions/3.12/lib/python3.12/site-packages (from beautifulsoup4->nbconvert) (2.6)\n",
      "Requirement already satisfied: idna>=2.8 in /Library/Frameworks/Python.framework/Versions/3.12/lib/python3.12/site-packages (from anyio>=3.1.0->jupyter-server<3,>=1.18->voila) (3.10)\n",
      "Requirement already satisfied: sniffio>=1.1 in /Library/Frameworks/Python.framework/Versions/3.12/lib/python3.12/site-packages (from anyio>=3.1.0->jupyter-server<3,>=1.18->voila) (1.3.1)\n",
      "Collecting argon2-cffi-bindings (from argon2-cffi>=21.1->jupyter-server<3,>=1.18->voila)\n",
      "  Obtaining dependency information for argon2-cffi-bindings from https://files.pythonhosted.org/packages/5a/e4/bf8034d25edaa495da3c8a3405627d2e35758e44ff6eaa7948092646fdcc/argon2_cffi_bindings-21.2.0-cp38-abi3-macosx_10_9_universal2.whl.metadata\n",
      "  Downloading argon2_cffi_bindings-21.2.0-cp38-abi3-macosx_10_9_universal2.whl.metadata (6.7 kB)\n",
      "Requirement already satisfied: parso<0.9.0,>=0.8.3 in /Users/marceloppisuner/Library/Python/3.12/lib/python/site-packages (from jedi>=0.16->ipython>=6.1.0->ipywidgets) (0.8.3)\n",
      "Requirement already satisfied: attrs>=22.2.0 in /Library/Frameworks/Python.framework/Versions/3.12/lib/python3.12/site-packages (from jsonschema>=4.18.0->jupyterlab-server<3,>=2.3.0->voila) (24.2.0)\n",
      "Requirement already satisfied: jsonschema-specifications>=2023.03.6 in /Library/Frameworks/Python.framework/Versions/3.12/lib/python3.12/site-packages (from jsonschema>=4.18.0->jupyterlab-server<3,>=2.3.0->voila) (2024.10.1)\n",
      "Requirement already satisfied: referencing>=0.28.4 in /Library/Frameworks/Python.framework/Versions/3.12/lib/python3.12/site-packages (from jsonschema>=4.18.0->jupyterlab-server<3,>=2.3.0->voila) (0.35.1)\n",
      "Requirement already satisfied: rpds-py>=0.7.1 in /Library/Frameworks/Python.framework/Versions/3.12/lib/python3.12/site-packages (from jsonschema>=4.18.0->jupyterlab-server<3,>=2.3.0->voila) (0.21.0)\n",
      "Collecting python-json-logger>=2.0.4 (from jupyter-events>=0.9.0->jupyter-server<3,>=1.18->voila)\n",
      "  Obtaining dependency information for python-json-logger>=2.0.4 from https://files.pythonhosted.org/packages/35/a6/145655273568ee78a581e734cf35beb9e33a370b29c5d3c8fee3744de29f/python_json_logger-2.0.7-py3-none-any.whl.metadata\n",
      "  Downloading python_json_logger-2.0.7-py3-none-any.whl.metadata (6.5 kB)\n",
      "Requirement already satisfied: pyyaml>=5.3 in /Library/Frameworks/Python.framework/Versions/3.12/lib/python3.12/site-packages (from jupyter-events>=0.9.0->jupyter-server<3,>=1.18->voila) (6.0.2)\n",
      "Collecting rfc3339-validator (from jupyter-events>=0.9.0->jupyter-server<3,>=1.18->voila)\n",
      "  Obtaining dependency information for rfc3339-validator from https://files.pythonhosted.org/packages/7b/44/4e421b96b67b2daff264473f7465db72fbdf36a07e05494f50300cc7b0c6/rfc3339_validator-0.1.4-py2.py3-none-any.whl.metadata\n",
      "  Downloading rfc3339_validator-0.1.4-py2.py3-none-any.whl.metadata (1.5 kB)\n",
      "Collecting rfc3986-validator>=0.1.1 (from jupyter-events>=0.9.0->jupyter-server<3,>=1.18->voila)\n",
      "  Obtaining dependency information for rfc3986-validator>=0.1.1 from https://files.pythonhosted.org/packages/9e/51/17023c0f8f1869d8806b979a2bffa3f861f26a3f1a66b094288323fba52f/rfc3986_validator-0.1.1-py2.py3-none-any.whl.metadata\n",
      "  Downloading rfc3986_validator-0.1.1-py2.py3-none-any.whl.metadata (1.7 kB)\n",
      "Requirement already satisfied: ptyprocess>=0.5 in /Users/marceloppisuner/Library/Python/3.12/lib/python/site-packages (from pexpect>4.3->ipython>=6.1.0->ipywidgets) (0.7.0)\n",
      "Requirement already satisfied: wcwidth in /Users/marceloppisuner/Library/Python/3.12/lib/python/site-packages (from prompt-toolkit<3.1.0,>=3.0.41->ipython>=6.1.0->ipywidgets) (0.2.12)\n",
      "Requirement already satisfied: six>=1.5 in /Users/marceloppisuner/Library/Python/3.12/lib/python/site-packages (from python-dateutil>=2.8.2->jupyter-client<9,>=7.4.4->voila) (1.16.0)\n",
      "Requirement already satisfied: charset-normalizer<4,>=2 in /Library/Frameworks/Python.framework/Versions/3.12/lib/python3.12/site-packages (from requests>=2.31->jupyterlab-server<3,>=2.3.0->voila) (3.4.0)\n",
      "Requirement already satisfied: urllib3<3,>=1.21.1 in /Library/Frameworks/Python.framework/Versions/3.12/lib/python3.12/site-packages (from requests>=2.31->jupyterlab-server<3,>=2.3.0->voila) (2.2.3)\n",
      "Requirement already satisfied: certifi>=2017.4.17 in /Library/Frameworks/Python.framework/Versions/3.12/lib/python3.12/site-packages (from requests>=2.31->jupyterlab-server<3,>=2.3.0->voila) (2023.7.22)\n",
      "Requirement already satisfied: executing>=1.2.0 in /Users/marceloppisuner/Library/Python/3.12/lib/python/site-packages (from stack-data->ipython>=6.1.0->ipywidgets) (2.0.1)\n",
      "Requirement already satisfied: asttokens>=2.1.0 in /Users/marceloppisuner/Library/Python/3.12/lib/python/site-packages (from stack-data->ipython>=6.1.0->ipywidgets) (2.4.1)\n",
      "Requirement already satisfied: pure-eval in /Users/marceloppisuner/Library/Python/3.12/lib/python/site-packages (from stack-data->ipython>=6.1.0->ipywidgets) (0.2.2)\n",
      "Collecting fqdn (from jsonschema>=4.18.0->jupyterlab-server<3,>=2.3.0->voila)\n",
      "  Obtaining dependency information for fqdn from https://files.pythonhosted.org/packages/cf/58/8acf1b3e91c58313ce5cb67df61001fc9dcd21be4fadb76c1a2d540e09ed/fqdn-1.5.1-py3-none-any.whl.metadata\n",
      "  Downloading fqdn-1.5.1-py3-none-any.whl.metadata (1.4 kB)\n",
      "Collecting isoduration (from jsonschema>=4.18.0->jupyterlab-server<3,>=2.3.0->voila)\n",
      "  Obtaining dependency information for isoduration from https://files.pythonhosted.org/packages/7b/55/e5326141505c5d5e34c5e0935d2908a74e4561eca44108fbfb9c13d2911a/isoduration-20.11.0-py3-none-any.whl.metadata\n",
      "  Downloading isoduration-20.11.0-py3-none-any.whl.metadata (5.7 kB)\n",
      "Collecting jsonpointer>1.13 (from jsonschema>=4.18.0->jupyterlab-server<3,>=2.3.0->voila)\n",
      "  Obtaining dependency information for jsonpointer>1.13 from https://files.pythonhosted.org/packages/71/92/5e77f98553e9e75130c78900d000368476aed74276eb8ae8796f65f00918/jsonpointer-3.0.0-py2.py3-none-any.whl.metadata\n",
      "  Downloading jsonpointer-3.0.0-py2.py3-none-any.whl.metadata (2.3 kB)\n",
      "Collecting uri-template (from jsonschema>=4.18.0->jupyterlab-server<3,>=2.3.0->voila)\n",
      "  Obtaining dependency information for uri-template from https://files.pythonhosted.org/packages/e7/00/3fca040d7cf8a32776d3d81a00c8ee7457e00f80c649f1e4a863c8321ae9/uri_template-1.3.0-py3-none-any.whl.metadata\n",
      "  Using cached uri_template-1.3.0-py3-none-any.whl.metadata (8.8 kB)\n",
      "Collecting webcolors>=24.6.0 (from jsonschema>=4.18.0->jupyterlab-server<3,>=2.3.0->voila)\n",
      "  Obtaining dependency information for webcolors>=24.6.0 from https://files.pythonhosted.org/packages/60/e8/c0e05e4684d13459f93d312077a9a2efbe04d59c393bc2b8802248c908d4/webcolors-24.11.1-py3-none-any.whl.metadata\n",
      "  Downloading webcolors-24.11.1-py3-none-any.whl.metadata (2.2 kB)\n",
      "Collecting cffi>=1.0.1 (from argon2-cffi-bindings->argon2-cffi>=21.1->jupyter-server<3,>=1.18->voila)\n",
      "  Obtaining dependency information for cffi>=1.0.1 from https://files.pythonhosted.org/packages/da/ee/fb72c2b48656111c4ef27f0f91da355e130a923473bf5ee75c5643d00cca/cffi-1.17.1-cp312-cp312-macosx_11_0_arm64.whl.metadata\n",
      "  Downloading cffi-1.17.1-cp312-cp312-macosx_11_0_arm64.whl.metadata (1.5 kB)\n",
      "Collecting pycparser (from cffi>=1.0.1->argon2-cffi-bindings->argon2-cffi>=21.1->jupyter-server<3,>=1.18->voila)\n",
      "  Obtaining dependency information for pycparser from https://files.pythonhosted.org/packages/13/a3/a812df4e2dd5696d1f351d58b8fe16a405b234ad2886a0dab9183fb78109/pycparser-2.22-py3-none-any.whl.metadata\n",
      "  Downloading pycparser-2.22-py3-none-any.whl.metadata (943 bytes)\n",
      "Collecting arrow>=0.15.0 (from isoduration->jsonschema>=4.18.0->jupyterlab-server<3,>=2.3.0->voila)\n",
      "  Obtaining dependency information for arrow>=0.15.0 from https://files.pythonhosted.org/packages/f8/ed/e97229a566617f2ae958a6b13e7cc0f585470eac730a73e9e82c32a3cdd2/arrow-1.3.0-py3-none-any.whl.metadata\n",
      "  Downloading arrow-1.3.0-py3-none-any.whl.metadata (7.5 kB)\n",
      "Collecting types-python-dateutil>=2.8.10 (from arrow>=0.15.0->isoduration->jsonschema>=4.18.0->jupyterlab-server<3,>=2.3.0->voila)\n",
      "  Obtaining dependency information for types-python-dateutil>=2.8.10 from https://files.pythonhosted.org/packages/35/d6/ba5f61958f358028f2e2ba1b8e225b8e263053bd57d3a79e2d2db64c807b/types_python_dateutil-2.9.0.20241003-py3-none-any.whl.metadata\n",
      "  Downloading types_python_dateutil-2.9.0.20241003-py3-none-any.whl.metadata (1.9 kB)\n",
      "Downloading voila-0.5.8-py3-none-any.whl (4.5 MB)\n",
      "\u001b[2K   \u001b[90m━━━━━━━━━━━━━━━━━━━━━━━━━━━━━━━━━━━━━━━━\u001b[0m \u001b[32m4.5/4.5 MB\u001b[0m \u001b[31m31.6 MB/s\u001b[0m eta \u001b[36m0:00:00\u001b[0ma \u001b[36m0:00:01\u001b[0m\n",
      "\u001b[?25hDownloading jupyter_server-2.14.2-py3-none-any.whl (383 kB)\n",
      "\u001b[2K   \u001b[90m━━━━━━━━━━━━━━━━━━━━━━━━━━━━━━━━━━━━━━━━\u001b[0m \u001b[32m383.6/383.6 kB\u001b[0m \u001b[31m14.7 MB/s\u001b[0m eta \u001b[36m0:00:00\u001b[0m\n",
      "\u001b[?25hDownloading jupyterlab_server-2.27.3-py3-none-any.whl (59 kB)\n",
      "\u001b[2K   \u001b[90m━━━━━━━━━━━━━━━━━━━━━━━━━━━━━━━━━━━━━━━━\u001b[0m \u001b[32m59.7/59.7 kB\u001b[0m \u001b[31m6.4 MB/s\u001b[0m eta \u001b[36m0:00:00\u001b[0m\n",
      "\u001b[?25hDownloading websockets-14.1-cp312-cp312-macosx_11_0_arm64.whl (159 kB)\n",
      "\u001b[2K   \u001b[90m━━━━━━━━━━━━━━━━━━━━━━━━━━━━━━━━━━━━━━━━\u001b[0m \u001b[32m159.9/159.9 kB\u001b[0m \u001b[31m10.5 MB/s\u001b[0m eta \u001b[36m0:00:00\u001b[0m\n",
      "\u001b[?25hDownloading anyio-4.6.2.post1-py3-none-any.whl (90 kB)\n",
      "\u001b[2K   \u001b[90m━━━━━━━━━━━━━━━━━━━━━━━━━━━━━━━━━━━━━━━━\u001b[0m \u001b[32m90.4/90.4 kB\u001b[0m \u001b[31m8.9 MB/s\u001b[0m eta \u001b[36m0:00:00\u001b[0m\n",
      "\u001b[?25hDownloading argon2_cffi-23.1.0-py3-none-any.whl (15 kB)\n",
      "Downloading babel-2.16.0-py3-none-any.whl (9.6 MB)\n",
      "\u001b[2K   \u001b[90m━━━━━━━━━━━━━━━━━━━━━━━━━━━━━━━━━━━━━━━━\u001b[0m \u001b[32m9.6/9.6 MB\u001b[0m \u001b[31m22.0 MB/s\u001b[0m eta \u001b[36m0:00:00\u001b[0m00:01\u001b[0m00:01\u001b[0m\n",
      "\u001b[?25hDownloading json5-0.10.0-py3-none-any.whl (34 kB)\n",
      "Downloading jupyter_events-0.10.0-py3-none-any.whl (18 kB)\n",
      "Downloading jupyter_server_terminals-0.5.3-py3-none-any.whl (13 kB)\n",
      "Downloading overrides-7.7.0-py3-none-any.whl (17 kB)\n",
      "Downloading prometheus_client-0.21.0-py3-none-any.whl (54 kB)\n",
      "\u001b[2K   \u001b[90m━━━━━━━━━━━━━━━━━━━━━━━━━━━━━━━━━━━━━━━━\u001b[0m \u001b[32m54.7/54.7 kB\u001b[0m \u001b[31m11.1 MB/s\u001b[0m eta \u001b[36m0:00:00\u001b[0m\n",
      "\u001b[?25hDownloading Send2Trash-1.8.3-py3-none-any.whl (18 kB)\n",
      "Downloading terminado-0.18.1-py3-none-any.whl (14 kB)\n",
      "Downloading python_json_logger-2.0.7-py3-none-any.whl (8.1 kB)\n",
      "Downloading rfc3986_validator-0.1.1-py2.py3-none-any.whl (4.2 kB)\n",
      "Downloading argon2_cffi_bindings-21.2.0-cp38-abi3-macosx_10_9_universal2.whl (53 kB)\n",
      "\u001b[2K   \u001b[90m━━━━━━━━━━━━━━━━━━━━━━━━━━━━━━━━━━━━━━━━\u001b[0m \u001b[32m53.1/53.1 kB\u001b[0m \u001b[31m7.3 MB/s\u001b[0m eta \u001b[36m0:00:00\u001b[0m\n",
      "\u001b[?25hDownloading rfc3339_validator-0.1.4-py2.py3-none-any.whl (3.5 kB)\n",
      "Downloading cffi-1.17.1-cp312-cp312-macosx_11_0_arm64.whl (178 kB)\n",
      "\u001b[2K   \u001b[90m━━━━━━━━━━━━━━━━━━━━━━━━━━━━━━━━━━━━━━━━\u001b[0m \u001b[32m178.8/178.8 kB\u001b[0m \u001b[31m20.5 MB/s\u001b[0m eta \u001b[36m0:00:00\u001b[0m\n",
      "\u001b[?25hDownloading jsonpointer-3.0.0-py2.py3-none-any.whl (7.6 kB)\n",
      "Downloading webcolors-24.11.1-py3-none-any.whl (14 kB)\n",
      "Using cached fqdn-1.5.1-py3-none-any.whl (9.1 kB)\n",
      "Using cached isoduration-20.11.0-py3-none-any.whl (11 kB)\n",
      "Using cached uri_template-1.3.0-py3-none-any.whl (11 kB)\n",
      "Downloading arrow-1.3.0-py3-none-any.whl (66 kB)\n",
      "\u001b[2K   \u001b[90m━━━━━━━━━━━━━━━━━━━━━━━━━━━━━━━━━━━━━━━━\u001b[0m \u001b[32m66.4/66.4 kB\u001b[0m \u001b[31m15.2 MB/s\u001b[0m eta \u001b[36m0:00:00\u001b[0m\n",
      "\u001b[?25hDownloading pycparser-2.22-py3-none-any.whl (117 kB)\n",
      "\u001b[2K   \u001b[90m━━━━━━━━━━━━━━━━━━━━━━━━━━━━━━━━━━━━━━━━\u001b[0m \u001b[32m117.6/117.6 kB\u001b[0m \u001b[31m19.6 MB/s\u001b[0m eta \u001b[36m0:00:00\u001b[0m\n",
      "\u001b[?25hDownloading types_python_dateutil-2.9.0.20241003-py3-none-any.whl (9.7 kB)\n",
      "Installing collected packages: websockets, webcolors, uri-template, types-python-dateutil, terminado, send2trash, rfc3986-validator, rfc3339-validator, python-json-logger, pycparser, prometheus-client, overrides, jsonpointer, json5, fqdn, babel, anyio, jupyter-server-terminals, cffi, arrow, isoduration, argon2-cffi-bindings, argon2-cffi, jupyter-events, jupyter-server, jupyterlab-server, voila\n",
      "Successfully installed anyio-4.6.2.post1 argon2-cffi-23.1.0 argon2-cffi-bindings-21.2.0 arrow-1.3.0 babel-2.16.0 cffi-1.17.1 fqdn-1.5.1 isoduration-20.11.0 json5-0.10.0 jsonpointer-3.0.0 jupyter-events-0.10.0 jupyter-server-2.14.2 jupyter-server-terminals-0.5.3 jupyterlab-server-2.27.3 overrides-7.7.0 prometheus-client-0.21.0 pycparser-2.22 python-json-logger-2.0.7 rfc3339-validator-0.1.4 rfc3986-validator-0.1.1 send2trash-1.8.3 terminado-0.18.1 types-python-dateutil-2.9.0.20241003 uri-template-1.3.0 voila-0.5.8 webcolors-24.11.1 websockets-14.1\n",
      "\n",
      "\u001b[1m[\u001b[0m\u001b[34;49mnotice\u001b[0m\u001b[1;39;49m]\u001b[0m\u001b[39;49m A new release of pip is available: \u001b[0m\u001b[31;49m23.2.1\u001b[0m\u001b[39;49m -> \u001b[0m\u001b[32;49m24.3.1\u001b[0m\n",
      "\u001b[1m[\u001b[0m\u001b[34;49mnotice\u001b[0m\u001b[1;39;49m]\u001b[0m\u001b[39;49m To update, run: \u001b[0m\u001b[32;49mpip3 install --upgrade pip\u001b[0m\n",
      "Note: you may need to restart the kernel to use updated packages.\n"
     ]
    }
   ],
   "source": [
    "pip install ipywidgets nbconvert voila"
   ]
  }
 ],
 "metadata": {
  "kernelspec": {
   "display_name": "Python 3",
   "language": "python",
   "name": "python3"
  },
  "language_info": {
   "codemirror_mode": {
    "name": "ipython",
    "version": 3
   },
   "file_extension": ".py",
   "mimetype": "text/x-python",
   "name": "python",
   "nbconvert_exporter": "python",
   "pygments_lexer": "ipython3",
   "version": "3.12.0"
  }
 },
 "nbformat": 4,
 "nbformat_minor": 2
}
