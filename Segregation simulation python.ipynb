{
 "cells": [
  {
   "cell_type": "code",
   "execution_count": 1,
   "metadata": {},
   "outputs": [
    {
     "data": {
      "application/vnd.jupyter.widget-view+json": {
       "model_id": "f4dec70dc3644ae3ab6dd0e1caac2abc",
       "version_major": 2,
       "version_minor": 0
      },
      "text/plain": [
       "IntSlider(value=600, description='Agents A', max=2500)"
      ]
     },
     "metadata": {},
     "output_type": "display_data"
    },
    {
     "data": {
      "application/vnd.jupyter.widget-view+json": {
       "model_id": "a71dab31bd194c04af8ca1fd132a6207",
       "version_major": 2,
       "version_minor": 0
      },
      "text/plain": [
       "IntSlider(value=600, description='Agents B', max=2500)"
      ]
     },
     "metadata": {},
     "output_type": "display_data"
    },
    {
     "data": {
      "application/vnd.jupyter.widget-view+json": {
       "model_id": "1ce0ad5d78fe47888c341574278c3d81",
       "version_major": 2,
       "version_minor": 0
      },
      "text/plain": [
       "IntSlider(value=3, description='Similar A', max=8)"
      ]
     },
     "metadata": {},
     "output_type": "display_data"
    },
    {
     "data": {
      "application/vnd.jupyter.widget-view+json": {
       "model_id": "92784c2d2db74d0a8079fffc60ab46c3",
       "version_major": 2,
       "version_minor": 0
      },
      "text/plain": [
       "IntSlider(value=3, description='Similar B', max=8)"
      ]
     },
     "metadata": {},
     "output_type": "display_data"
    },
    {
     "data": {
      "application/vnd.jupyter.widget-view+json": {
       "model_id": "e5380b9090ac4539b7152cfa548df537",
       "version_major": 2,
       "version_minor": 0
      },
      "text/plain": [
       "Button(description='Run Simulation', style=ButtonStyle())"
      ]
     },
     "metadata": {},
     "output_type": "display_data"
    }
   ],
   "source": [
    "import numpy as np\n",
    "import matplotlib.pyplot as plt\n",
    "import matplotlib.animation as animation\n",
    "import ipywidgets as widgets\n",
    "from IPython.display import display\n",
    "import matplotlib\n",
    "\n",
    "# Use TkAgg backend for dynamic plots\n",
    "matplotlib.use('TkAgg')\n",
    "\n",
    "class SchellingSimulation:\n",
    "    def __init__(self, grid_size=50, num_agents_A=600, num_agents_B=600, similar_neighbors_A=3, similar_neighbors_B=3):\n",
    "        self.grid_size = grid_size\n",
    "        self.num_agents_A = num_agents_A\n",
    "        self.num_agents_B = num_agents_B\n",
    "        self.similar_neighbors_A = similar_neighbors_A\n",
    "        self.similar_neighbors_B = similar_neighbors_B\n",
    "        self.grid = np.zeros((grid_size, grid_size), dtype=int)\n",
    "        self.initialize_grid()\n",
    "        self.fig, self.ax = plt.subplots()\n",
    "        self.cmap = plt.cm.colors.ListedColormap(['white', 'blue', 'red'])\n",
    "        self.bounds = [0, 1, 2, 3]\n",
    "        self.norm = plt.cm.colors.BoundaryNorm(self.bounds, self.cmap.N)\n",
    "        self.im = self.ax.imshow(self.grid, cmap=self.cmap, norm=self.norm)\n",
    "\n",
    "    def initialize_grid(self):\n",
    "        self.grid = np.zeros((self.grid_size, self.grid_size), dtype=int)\n",
    "        positions_A = np.random.choice(self.grid_size * self.grid_size, self.num_agents_A, replace=False)\n",
    "        positions_B = np.random.choice(self.grid_size * self.grid_size, self.num_agents_B, replace=False)\n",
    "\n",
    "        for pos in positions_A:\n",
    "            self.grid[pos // self.grid_size, pos % self.grid_size] = 1  # Agent A\n",
    "\n",
    "        for pos in positions_B:\n",
    "            self.grid[pos // self.grid_size, pos % self.grid_size] = 2  # Agent B\n",
    "\n",
    "    def count_similar_neighbors(self, x, y, agent_type):\n",
    "        directions = [(-1, -1), (-1, 0), (-1, 1), (0, -1), (0, 1), (1, -1), (1, 0), (1, 1)]\n",
    "        similar_count = 0\n",
    "        for dx, dy in directions:\n",
    "            nx, ny = x + dx, y + dy\n",
    "            if 0 <= nx < self.grid_size and 0 <= ny < self.grid_size:\n",
    "                if self.grid[nx, ny] == agent_type:\n",
    "                    similar_count += 1\n",
    "        return similar_count\n",
    "\n",
    "    def move_agent(self, x, y, agent_type):\n",
    "        empty_positions = np.argwhere(self.grid == 0)\n",
    "        if len(empty_positions) == 0:\n",
    "            return False\n",
    "        new_x, new_y = empty_positions[np.random.choice(len(empty_positions))]\n",
    "        self.grid[x, y] = 0\n",
    "        self.grid[new_x, new_y] = agent_type\n",
    "        return True\n",
    "\n",
    "    def update(self, frame):\n",
    "        changed = False\n",
    "        for x in range(self.grid_size):\n",
    "            for y in range(self.grid_size):\n",
    "                agent_type = self.grid[x, y]\n",
    "                if agent_type == 1:\n",
    "                    if self.count_similar_neighbors(x, y, 1) < self.similar_neighbors_A:\n",
    "                        if self.move_agent(x, y, 1):\n",
    "                            changed = True\n",
    "                elif agent_type == 2:\n",
    "                    if self.count_similar_neighbors(x, y, 2) < self.similar_neighbors_B:\n",
    "                        if self.move_agent(x, y, 2):\n",
    "                            changed = True\n",
    "        if not changed:\n",
    "            self.ani.event_source.stop()\n",
    "        self.im.set_array(self.grid)\n",
    "        return [self.im]\n",
    "\n",
    "    def run(self):\n",
    "        self.ani = animation.FuncAnimation(self.fig, self.update, frames=100, interval=200, repeat=False)\n",
    "        plt.show()\n",
    "\n",
    "# Widget controls\n",
    "agent_A_slider = widgets.IntSlider(value=600, min=0, max=2500, step=1, description='Agents A')\n",
    "agent_B_slider = widgets.IntSlider(value=600, min=0, max=2500, step=1, description='Agents B')\n",
    "similar_A_slider = widgets.IntSlider(value=3, min=0, max=8, step=1, description='Similar A')\n",
    "similar_B_slider = widgets.IntSlider(value=3, min=0, max=8, step=1, description='Similar B')\n",
    "run_button = widgets.Button(description='Run Simulation')\n",
    "\n",
    "# Interactive output\n",
    "def run_simulation(_):\n",
    "    sim = SchellingSimulation(\n",
    "        num_agents_A=agent_A_slider.value,\n",
    "        num_agents_B=agent_B_slider.value,\n",
    "        similar_neighbors_A=similar_A_slider.value,\n",
    "        similar_neighbors_B=similar_B_slider.value\n",
    "    )\n",
    "    sim.run()\n",
    "\n",
    "run_button.on_click(run_simulation)\n",
    "\n",
    "# Display controls\n",
    "display(agent_A_slider, agent_B_slider, similar_A_slider, similar_B_slider, run_button)"
   ]
  }
 ],
 "metadata": {
  "kernelspec": {
   "display_name": "base",
   "language": "python",
   "name": "python3"
  },
  "language_info": {
   "codemirror_mode": {
    "name": "ipython",
    "version": 3
   },
   "file_extension": ".py",
   "mimetype": "text/x-python",
   "name": "python",
   "nbconvert_exporter": "python",
   "pygments_lexer": "ipython3",
   "version": "3.12.7"
  }
 },
 "nbformat": 4,
 "nbformat_minor": 2
}
